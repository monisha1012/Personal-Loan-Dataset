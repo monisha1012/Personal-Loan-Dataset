{
 "cells": [
  {
   "cell_type": "markdown",
   "metadata": {},
   "source": [
    "# PART-B  LOGISTIC REGRESSION"
   ]
  },
  {
   "cell_type": "markdown",
   "metadata": {},
   "source": [
    "* Logistic Regression is a Machine Learning classification algorithm that is used to predict the probability of a categorical dependent variable. In logistic regression, the dependent variable is a binary variable that contains data coded as 1 (yes, success, etc.) or 0 (no, failure, etc.). In other words, the logistic regression model predicts P(Y=1) as a function of X.\n",
    "* Another category of classification is Multinomial classification, which handles the issues where multiple classes are present in the target variable.\n",
    "\n",
    "In this assignment, we will create 3 Logistic regression models to predict whether or not a customer accepts the Personal Loan and choose the best one.Our target variable is binary-Personal Loan (1= accepts the loan , 0 = does not accept the loan)"
   ]
  },
  {
   "cell_type": "markdown",
   "metadata": {},
   "source": [
    "## Importing Libraries and Data cleaning"
   ]
  },
  {
   "cell_type": "code",
   "execution_count": 489,
   "metadata": {
    "collapsed": true
   },
   "outputs": [],
   "source": [
    "# importing necessary libraries required for the code\n",
    "\n",
    "import numpy as np\n",
    "import pandas as pd\n",
    "from matplotlib import pyplot as plt\n",
    "from sklearn.linear_model import LogisticRegression\n",
    "from sklearn.cross_validation import train_test_split\n",
    "from sklearn.metrics import confusion_matrix\n",
    "from sklearn.metrics import accuracy_score\n",
    "import warnings\n",
    "warnings.filterwarnings('ignore')\n",
    "%matplotlib inline \n",
    "#from scipy import stats\n",
    "import seaborn as sns\n",
    "#from sklearn.datasets import load_boston\n",
    "\n",
    "# Make plots larger\n",
    "plt.rcParams['figure.figsize'] = (10, 6)\n"
   ]
  },
  {
   "cell_type": "code",
   "execution_count": 490,
   "metadata": {
    "collapsed": true
   },
   "outputs": [],
   "source": [
    "import scipy as stats\n",
    "import seaborn as sns\n",
    "import re\n",
    "from sklearn.preprocessing import LabelEncoder\n",
    "from sklearn.model_selection import train_test_split\n",
    "from sklearn.linear_model import LinearRegression\n",
    "from sklearn.tree import DecisionTreeRegressor\n",
    "from sklearn.ensemble import RandomForestRegressor\n",
    "from sklearn.metrics import mean_squared_error\n",
    "import statsmodels.api as sm\n",
    "from sklearn import metrics\n",
    "from scipy import stats"
   ]
  },
  {
   "cell_type": "code",
   "execution_count": 491,
   "metadata": {
    "collapsed": true
   },
   "outputs": [],
   "source": [
    "#importing the dataset\n",
    "df = pd.read_csv(\"personalloan.csv\")"
   ]
  },
  {
   "cell_type": "code",
   "execution_count": 492,
   "metadata": {},
   "outputs": [
    {
     "data": {
      "text/html": [
       "<div>\n",
       "<style>\n",
       "    .dataframe thead tr:only-child th {\n",
       "        text-align: right;\n",
       "    }\n",
       "\n",
       "    .dataframe thead th {\n",
       "        text-align: left;\n",
       "    }\n",
       "\n",
       "    .dataframe tbody tr th {\n",
       "        vertical-align: top;\n",
       "    }\n",
       "</style>\n",
       "<table border=\"1\" class=\"dataframe\">\n",
       "  <thead>\n",
       "    <tr style=\"text-align: right;\">\n",
       "      <th></th>\n",
       "      <th>ID</th>\n",
       "      <th>Age</th>\n",
       "      <th>Experience</th>\n",
       "      <th>Income</th>\n",
       "      <th>ZIP Code</th>\n",
       "      <th>Family</th>\n",
       "      <th>CCAvg</th>\n",
       "      <th>Education</th>\n",
       "      <th>Mortgage</th>\n",
       "      <th>Personal Loan</th>\n",
       "      <th>Securities Account</th>\n",
       "      <th>CD Account</th>\n",
       "      <th>Online</th>\n",
       "      <th>CreditCard</th>\n",
       "    </tr>\n",
       "  </thead>\n",
       "  <tbody>\n",
       "    <tr>\n",
       "      <th>0</th>\n",
       "      <td>1</td>\n",
       "      <td>25</td>\n",
       "      <td>1</td>\n",
       "      <td>49</td>\n",
       "      <td>91107</td>\n",
       "      <td>4</td>\n",
       "      <td>1.6</td>\n",
       "      <td>1</td>\n",
       "      <td>0</td>\n",
       "      <td>0</td>\n",
       "      <td>1</td>\n",
       "      <td>0</td>\n",
       "      <td>0</td>\n",
       "      <td>0</td>\n",
       "    </tr>\n",
       "    <tr>\n",
       "      <th>1</th>\n",
       "      <td>2</td>\n",
       "      <td>45</td>\n",
       "      <td>19</td>\n",
       "      <td>34</td>\n",
       "      <td>90089</td>\n",
       "      <td>3</td>\n",
       "      <td>1.5</td>\n",
       "      <td>1</td>\n",
       "      <td>0</td>\n",
       "      <td>0</td>\n",
       "      <td>1</td>\n",
       "      <td>0</td>\n",
       "      <td>0</td>\n",
       "      <td>0</td>\n",
       "    </tr>\n",
       "    <tr>\n",
       "      <th>2</th>\n",
       "      <td>3</td>\n",
       "      <td>39</td>\n",
       "      <td>15</td>\n",
       "      <td>11</td>\n",
       "      <td>94720</td>\n",
       "      <td>1</td>\n",
       "      <td>1.0</td>\n",
       "      <td>1</td>\n",
       "      <td>0</td>\n",
       "      <td>0</td>\n",
       "      <td>0</td>\n",
       "      <td>0</td>\n",
       "      <td>0</td>\n",
       "      <td>0</td>\n",
       "    </tr>\n",
       "    <tr>\n",
       "      <th>3</th>\n",
       "      <td>4</td>\n",
       "      <td>35</td>\n",
       "      <td>9</td>\n",
       "      <td>100</td>\n",
       "      <td>94112</td>\n",
       "      <td>1</td>\n",
       "      <td>2.7</td>\n",
       "      <td>2</td>\n",
       "      <td>0</td>\n",
       "      <td>0</td>\n",
       "      <td>0</td>\n",
       "      <td>0</td>\n",
       "      <td>0</td>\n",
       "      <td>0</td>\n",
       "    </tr>\n",
       "    <tr>\n",
       "      <th>4</th>\n",
       "      <td>5</td>\n",
       "      <td>35</td>\n",
       "      <td>8</td>\n",
       "      <td>45</td>\n",
       "      <td>91330</td>\n",
       "      <td>4</td>\n",
       "      <td>1.0</td>\n",
       "      <td>2</td>\n",
       "      <td>0</td>\n",
       "      <td>0</td>\n",
       "      <td>0</td>\n",
       "      <td>0</td>\n",
       "      <td>0</td>\n",
       "      <td>1</td>\n",
       "    </tr>\n",
       "  </tbody>\n",
       "</table>\n",
       "</div>"
      ],
      "text/plain": [
       "   ID  Age  Experience  Income  ZIP Code  Family  CCAvg  Education  Mortgage  \\\n",
       "0   1   25           1      49     91107       4    1.6          1         0   \n",
       "1   2   45          19      34     90089       3    1.5          1         0   \n",
       "2   3   39          15      11     94720       1    1.0          1         0   \n",
       "3   4   35           9     100     94112       1    2.7          2         0   \n",
       "4   5   35           8      45     91330       4    1.0          2         0   \n",
       "\n",
       "   Personal Loan  Securities Account  CD Account  Online  CreditCard  \n",
       "0              0                   1           0       0           0  \n",
       "1              0                   1           0       0           0  \n",
       "2              0                   0           0       0           0  \n",
       "3              0                   0           0       0           0  \n",
       "4              0                   0           0       0           1  "
      ]
     },
     "execution_count": 492,
     "metadata": {},
     "output_type": "execute_result"
    }
   ],
   "source": [
    "df.head()"
   ]
  },
  {
   "cell_type": "code",
   "execution_count": 493,
   "metadata": {
    "collapsed": true
   },
   "outputs": [],
   "source": [
    "#Converting the datatype of CCAvg to float\n",
    "df[\"CCAvg\"] = df.CCAvg.astype(float)"
   ]
  },
  {
   "cell_type": "markdown",
   "metadata": {},
   "source": [
    "#### Handling Categorical Columns\n",
    "\n",
    "* \"Education\" column in our data is a multi categorical column with values 1= Undergrad, 2=Grad, 3=Post grad\n",
    "* Inorder to remove the order of preference for the categories, we created dummy variables for the Education column.\n",
    "* The phenomenon where one or several independent variables predict another is Multi-collinearity. As a result of this the model cannot distinguish between the effects of Dummy variable 1,2 and 3. It won't work properly and this is called Dummy variable trap.\n",
    "* To avoid this trap we drop one dummy variable column. So for N dummy columns, we have N-1 columns retained. \n",
    "* Here we dropped Education_1 and have only Education_2 & Education_3"
   ]
  },
  {
   "cell_type": "code",
   "execution_count": 494,
   "metadata": {
    "collapsed": true
   },
   "outputs": [],
   "source": [
    "df= pd.get_dummies(df,columns =['Education'], drop_first=True)"
   ]
  },
  {
   "cell_type": "code",
   "execution_count": 530,
   "metadata": {},
   "outputs": [
    {
     "data": {
      "text/html": [
       "<div>\n",
       "<style>\n",
       "    .dataframe thead tr:only-child th {\n",
       "        text-align: right;\n",
       "    }\n",
       "\n",
       "    .dataframe thead th {\n",
       "        text-align: left;\n",
       "    }\n",
       "\n",
       "    .dataframe tbody tr th {\n",
       "        vertical-align: top;\n",
       "    }\n",
       "</style>\n",
       "<table border=\"1\" class=\"dataframe\">\n",
       "  <thead>\n",
       "    <tr style=\"text-align: right;\">\n",
       "      <th></th>\n",
       "      <th>ID</th>\n",
       "      <th>Age</th>\n",
       "      <th>Experience</th>\n",
       "      <th>Income</th>\n",
       "      <th>ZIP Code</th>\n",
       "      <th>Family</th>\n",
       "      <th>CCAvg</th>\n",
       "      <th>Mortgage</th>\n",
       "      <th>Personal Loan</th>\n",
       "      <th>Securities Account</th>\n",
       "      <th>CD Account</th>\n",
       "      <th>Online</th>\n",
       "      <th>CreditCard</th>\n",
       "      <th>Education_2</th>\n",
       "      <th>Education_3</th>\n",
       "    </tr>\n",
       "  </thead>\n",
       "  <tbody>\n",
       "    <tr>\n",
       "      <th>0</th>\n",
       "      <td>1</td>\n",
       "      <td>25</td>\n",
       "      <td>1</td>\n",
       "      <td>49</td>\n",
       "      <td>91107</td>\n",
       "      <td>4</td>\n",
       "      <td>1.6</td>\n",
       "      <td>0</td>\n",
       "      <td>0</td>\n",
       "      <td>1</td>\n",
       "      <td>0</td>\n",
       "      <td>0</td>\n",
       "      <td>0</td>\n",
       "      <td>0</td>\n",
       "      <td>0</td>\n",
       "    </tr>\n",
       "    <tr>\n",
       "      <th>1</th>\n",
       "      <td>2</td>\n",
       "      <td>45</td>\n",
       "      <td>19</td>\n",
       "      <td>34</td>\n",
       "      <td>90089</td>\n",
       "      <td>3</td>\n",
       "      <td>1.5</td>\n",
       "      <td>0</td>\n",
       "      <td>0</td>\n",
       "      <td>1</td>\n",
       "      <td>0</td>\n",
       "      <td>0</td>\n",
       "      <td>0</td>\n",
       "      <td>0</td>\n",
       "      <td>0</td>\n",
       "    </tr>\n",
       "    <tr>\n",
       "      <th>2</th>\n",
       "      <td>3</td>\n",
       "      <td>39</td>\n",
       "      <td>15</td>\n",
       "      <td>11</td>\n",
       "      <td>94720</td>\n",
       "      <td>1</td>\n",
       "      <td>1.0</td>\n",
       "      <td>0</td>\n",
       "      <td>0</td>\n",
       "      <td>0</td>\n",
       "      <td>0</td>\n",
       "      <td>0</td>\n",
       "      <td>0</td>\n",
       "      <td>0</td>\n",
       "      <td>0</td>\n",
       "    </tr>\n",
       "    <tr>\n",
       "      <th>3</th>\n",
       "      <td>4</td>\n",
       "      <td>35</td>\n",
       "      <td>9</td>\n",
       "      <td>100</td>\n",
       "      <td>94112</td>\n",
       "      <td>1</td>\n",
       "      <td>2.7</td>\n",
       "      <td>0</td>\n",
       "      <td>0</td>\n",
       "      <td>0</td>\n",
       "      <td>0</td>\n",
       "      <td>0</td>\n",
       "      <td>0</td>\n",
       "      <td>1</td>\n",
       "      <td>0</td>\n",
       "    </tr>\n",
       "    <tr>\n",
       "      <th>4</th>\n",
       "      <td>5</td>\n",
       "      <td>35</td>\n",
       "      <td>8</td>\n",
       "      <td>45</td>\n",
       "      <td>91330</td>\n",
       "      <td>4</td>\n",
       "      <td>1.0</td>\n",
       "      <td>0</td>\n",
       "      <td>0</td>\n",
       "      <td>0</td>\n",
       "      <td>0</td>\n",
       "      <td>0</td>\n",
       "      <td>1</td>\n",
       "      <td>1</td>\n",
       "      <td>0</td>\n",
       "    </tr>\n",
       "  </tbody>\n",
       "</table>\n",
       "</div>"
      ],
      "text/plain": [
       "   ID  Age  Experience  Income  ZIP Code  Family  CCAvg  Mortgage  \\\n",
       "0   1   25           1      49     91107       4    1.6         0   \n",
       "1   2   45          19      34     90089       3    1.5         0   \n",
       "2   3   39          15      11     94720       1    1.0         0   \n",
       "3   4   35           9     100     94112       1    2.7         0   \n",
       "4   5   35           8      45     91330       4    1.0         0   \n",
       "\n",
       "   Personal Loan  Securities Account  CD Account  Online  CreditCard  \\\n",
       "0              0                   1           0       0           0   \n",
       "1              0                   1           0       0           0   \n",
       "2              0                   0           0       0           0   \n",
       "3              0                   0           0       0           0   \n",
       "4              0                   0           0       0           1   \n",
       "\n",
       "   Education_2  Education_3  \n",
       "0            0            0  \n",
       "1            0            0  \n",
       "2            0            0  \n",
       "3            1            0  \n",
       "4            1            0  "
      ]
     },
     "execution_count": 530,
     "metadata": {},
     "output_type": "execute_result"
    }
   ],
   "source": [
    "df.head()"
   ]
  },
  {
   "cell_type": "code",
   "execution_count": 495,
   "metadata": {},
   "outputs": [
    {
     "name": "stdout",
     "output_type": "stream",
     "text": [
      "<class 'pandas.core.frame.DataFrame'>\n",
      "RangeIndex: 5000 entries, 0 to 4999\n",
      "Data columns (total 15 columns):\n",
      "ID                    5000 non-null int64\n",
      "Age                   5000 non-null int64\n",
      "Experience            5000 non-null int64\n",
      "Income                5000 non-null int64\n",
      "ZIP Code              5000 non-null int64\n",
      "Family                5000 non-null int64\n",
      "CCAvg                 5000 non-null float64\n",
      "Mortgage              5000 non-null int64\n",
      "Personal Loan         5000 non-null int64\n",
      "Securities Account    5000 non-null int64\n",
      "CD Account            5000 non-null int64\n",
      "Online                5000 non-null int64\n",
      "CreditCard            5000 non-null int64\n",
      "Education_2           5000 non-null uint8\n",
      "Education_3           5000 non-null uint8\n",
      "dtypes: float64(1), int64(12), uint8(2)\n",
      "memory usage: 517.7 KB\n"
     ]
    }
   ],
   "source": [
    "df.info()"
   ]
  },
  {
   "cell_type": "code",
   "execution_count": 496,
   "metadata": {},
   "outputs": [
    {
     "data": {
      "text/plain": [
       "False"
      ]
     },
     "execution_count": 496,
     "metadata": {},
     "output_type": "execute_result"
    }
   ],
   "source": [
    "#checking if there are any null values\n",
    "df.isnull().values.any()"
   ]
  },
  {
   "cell_type": "code",
   "execution_count": 497,
   "metadata": {},
   "outputs": [
    {
     "data": {
      "text/plain": [
       "ID                    0\n",
       "Age                   0\n",
       "Experience            0\n",
       "Income                0\n",
       "ZIP Code              0\n",
       "Family                0\n",
       "CCAvg                 0\n",
       "Mortgage              0\n",
       "Personal Loan         0\n",
       "Securities Account    0\n",
       "CD Account            0\n",
       "Online                0\n",
       "CreditCard            0\n",
       "Education_2           0\n",
       "Education_3           0\n",
       "dtype: int64"
      ]
     },
     "execution_count": 497,
     "metadata": {},
     "output_type": "execute_result"
    }
   ],
   "source": [
    "df.isnull().sum()"
   ]
  },
  {
   "cell_type": "code",
   "execution_count": 596,
   "metadata": {},
   "outputs": [
    {
     "data": {
      "text/html": [
       "<div>\n",
       "<style>\n",
       "    .dataframe thead tr:only-child th {\n",
       "        text-align: right;\n",
       "    }\n",
       "\n",
       "    .dataframe thead th {\n",
       "        text-align: left;\n",
       "    }\n",
       "\n",
       "    .dataframe tbody tr th {\n",
       "        vertical-align: top;\n",
       "    }\n",
       "</style>\n",
       "<table border=\"1\" class=\"dataframe\">\n",
       "  <thead>\n",
       "    <tr style=\"text-align: right;\">\n",
       "      <th></th>\n",
       "      <th>ID</th>\n",
       "      <th>Age</th>\n",
       "      <th>Experience</th>\n",
       "      <th>Income</th>\n",
       "      <th>ZIP Code</th>\n",
       "      <th>Family</th>\n",
       "      <th>CCAvg</th>\n",
       "      <th>Mortgage</th>\n",
       "      <th>Personal Loan</th>\n",
       "      <th>Securities Account</th>\n",
       "      <th>CD Account</th>\n",
       "      <th>Online</th>\n",
       "      <th>CreditCard</th>\n",
       "      <th>Education_2</th>\n",
       "      <th>Education_3</th>\n",
       "    </tr>\n",
       "  </thead>\n",
       "  <tbody>\n",
       "    <tr>\n",
       "      <th>ID</th>\n",
       "      <td>1.000000</td>\n",
       "      <td>-0.008473</td>\n",
       "      <td>-0.008326</td>\n",
       "      <td>-0.017695</td>\n",
       "      <td>0.013432</td>\n",
       "      <td>-0.016797</td>\n",
       "      <td>-0.024675</td>\n",
       "      <td>-0.013920</td>\n",
       "      <td>-0.024801</td>\n",
       "      <td>-0.016972</td>\n",
       "      <td>-0.006909</td>\n",
       "      <td>-0.002528</td>\n",
       "      <td>0.017028</td>\n",
       "      <td>-0.004722</td>\n",
       "      <td>0.021977</td>\n",
       "    </tr>\n",
       "    <tr>\n",
       "      <th>Age</th>\n",
       "      <td>-0.008473</td>\n",
       "      <td>1.000000</td>\n",
       "      <td>0.994215</td>\n",
       "      <td>-0.055269</td>\n",
       "      <td>-0.029216</td>\n",
       "      <td>-0.046418</td>\n",
       "      <td>-0.052012</td>\n",
       "      <td>-0.012539</td>\n",
       "      <td>-0.007726</td>\n",
       "      <td>-0.000436</td>\n",
       "      <td>0.008043</td>\n",
       "      <td>0.013702</td>\n",
       "      <td>0.007681</td>\n",
       "      <td>-0.016264</td>\n",
       "      <td>0.045838</td>\n",
       "    </tr>\n",
       "    <tr>\n",
       "      <th>Experience</th>\n",
       "      <td>-0.008326</td>\n",
       "      <td>0.994215</td>\n",
       "      <td>1.000000</td>\n",
       "      <td>-0.046574</td>\n",
       "      <td>-0.028626</td>\n",
       "      <td>-0.052563</td>\n",
       "      <td>-0.050077</td>\n",
       "      <td>-0.010582</td>\n",
       "      <td>-0.007413</td>\n",
       "      <td>-0.001232</td>\n",
       "      <td>0.010353</td>\n",
       "      <td>0.013898</td>\n",
       "      <td>0.008967</td>\n",
       "      <td>-0.018197</td>\n",
       "      <td>0.020967</td>\n",
       "    </tr>\n",
       "    <tr>\n",
       "      <th>Income</th>\n",
       "      <td>-0.017695</td>\n",
       "      <td>-0.055269</td>\n",
       "      <td>-0.046574</td>\n",
       "      <td>1.000000</td>\n",
       "      <td>-0.016410</td>\n",
       "      <td>-0.157501</td>\n",
       "      <td>0.645984</td>\n",
       "      <td>0.206806</td>\n",
       "      <td>0.502462</td>\n",
       "      <td>-0.002616</td>\n",
       "      <td>0.169738</td>\n",
       "      <td>0.014206</td>\n",
       "      <td>-0.002385</td>\n",
       "      <td>-0.128364</td>\n",
       "      <td>-0.108878</td>\n",
       "    </tr>\n",
       "    <tr>\n",
       "      <th>ZIP Code</th>\n",
       "      <td>0.013432</td>\n",
       "      <td>-0.029216</td>\n",
       "      <td>-0.028626</td>\n",
       "      <td>-0.016410</td>\n",
       "      <td>1.000000</td>\n",
       "      <td>0.011778</td>\n",
       "      <td>-0.004061</td>\n",
       "      <td>0.007383</td>\n",
       "      <td>0.000107</td>\n",
       "      <td>0.004704</td>\n",
       "      <td>0.019972</td>\n",
       "      <td>0.016990</td>\n",
       "      <td>0.007691</td>\n",
       "      <td>0.037141</td>\n",
       "      <td>-0.034123</td>\n",
       "    </tr>\n",
       "    <tr>\n",
       "      <th>Family</th>\n",
       "      <td>-0.016797</td>\n",
       "      <td>-0.046418</td>\n",
       "      <td>-0.052563</td>\n",
       "      <td>-0.157501</td>\n",
       "      <td>0.011778</td>\n",
       "      <td>1.000000</td>\n",
       "      <td>-0.109275</td>\n",
       "      <td>-0.020445</td>\n",
       "      <td>0.061367</td>\n",
       "      <td>0.019994</td>\n",
       "      <td>0.014110</td>\n",
       "      <td>0.010354</td>\n",
       "      <td>0.011588</td>\n",
       "      <td>0.139201</td>\n",
       "      <td>-0.008744</td>\n",
       "    </tr>\n",
       "    <tr>\n",
       "      <th>CCAvg</th>\n",
       "      <td>-0.024675</td>\n",
       "      <td>-0.052012</td>\n",
       "      <td>-0.050077</td>\n",
       "      <td>0.645984</td>\n",
       "      <td>-0.004061</td>\n",
       "      <td>-0.109275</td>\n",
       "      <td>1.000000</td>\n",
       "      <td>0.109905</td>\n",
       "      <td>0.366889</td>\n",
       "      <td>0.015086</td>\n",
       "      <td>0.136534</td>\n",
       "      <td>-0.003611</td>\n",
       "      <td>-0.006689</td>\n",
       "      <td>-0.090366</td>\n",
       "      <td>-0.080413</td>\n",
       "    </tr>\n",
       "    <tr>\n",
       "      <th>Mortgage</th>\n",
       "      <td>-0.013920</td>\n",
       "      <td>-0.012539</td>\n",
       "      <td>-0.010582</td>\n",
       "      <td>0.206806</td>\n",
       "      <td>0.007383</td>\n",
       "      <td>-0.020445</td>\n",
       "      <td>0.109905</td>\n",
       "      <td>1.000000</td>\n",
       "      <td>0.142095</td>\n",
       "      <td>-0.005411</td>\n",
       "      <td>0.089311</td>\n",
       "      <td>-0.005995</td>\n",
       "      <td>-0.007231</td>\n",
       "      <td>-0.031806</td>\n",
       "      <td>-0.014942</td>\n",
       "    </tr>\n",
       "    <tr>\n",
       "      <th>Personal Loan</th>\n",
       "      <td>-0.024801</td>\n",
       "      <td>-0.007726</td>\n",
       "      <td>-0.007413</td>\n",
       "      <td>0.502462</td>\n",
       "      <td>0.000107</td>\n",
       "      <td>0.061367</td>\n",
       "      <td>0.366889</td>\n",
       "      <td>0.142095</td>\n",
       "      <td>1.000000</td>\n",
       "      <td>0.021954</td>\n",
       "      <td>0.316355</td>\n",
       "      <td>0.006278</td>\n",
       "      <td>0.002802</td>\n",
       "      <td>0.071491</td>\n",
       "      <td>0.090212</td>\n",
       "    </tr>\n",
       "    <tr>\n",
       "      <th>Securities Account</th>\n",
       "      <td>-0.016972</td>\n",
       "      <td>-0.000436</td>\n",
       "      <td>-0.001232</td>\n",
       "      <td>-0.002616</td>\n",
       "      <td>0.004704</td>\n",
       "      <td>0.019994</td>\n",
       "      <td>0.015086</td>\n",
       "      <td>-0.005411</td>\n",
       "      <td>0.021954</td>\n",
       "      <td>1.000000</td>\n",
       "      <td>0.317034</td>\n",
       "      <td>0.012627</td>\n",
       "      <td>-0.015028</td>\n",
       "      <td>0.005134</td>\n",
       "      <td>-0.012421</td>\n",
       "    </tr>\n",
       "    <tr>\n",
       "      <th>CD Account</th>\n",
       "      <td>-0.006909</td>\n",
       "      <td>0.008043</td>\n",
       "      <td>0.010353</td>\n",
       "      <td>0.169738</td>\n",
       "      <td>0.019972</td>\n",
       "      <td>0.014110</td>\n",
       "      <td>0.136534</td>\n",
       "      <td>0.089311</td>\n",
       "      <td>0.316355</td>\n",
       "      <td>0.317034</td>\n",
       "      <td>1.000000</td>\n",
       "      <td>0.175880</td>\n",
       "      <td>0.278644</td>\n",
       "      <td>0.006089</td>\n",
       "      <td>0.009780</td>\n",
       "    </tr>\n",
       "    <tr>\n",
       "      <th>Online</th>\n",
       "      <td>-0.002528</td>\n",
       "      <td>0.013702</td>\n",
       "      <td>0.013898</td>\n",
       "      <td>0.014206</td>\n",
       "      <td>0.016990</td>\n",
       "      <td>0.010354</td>\n",
       "      <td>-0.003611</td>\n",
       "      <td>-0.005995</td>\n",
       "      <td>0.006278</td>\n",
       "      <td>0.012627</td>\n",
       "      <td>0.175880</td>\n",
       "      <td>1.000000</td>\n",
       "      <td>0.004210</td>\n",
       "      <td>0.020590</td>\n",
       "      <td>-0.023837</td>\n",
       "    </tr>\n",
       "    <tr>\n",
       "      <th>CreditCard</th>\n",
       "      <td>0.017028</td>\n",
       "      <td>0.007681</td>\n",
       "      <td>0.008967</td>\n",
       "      <td>-0.002385</td>\n",
       "      <td>0.007691</td>\n",
       "      <td>0.011588</td>\n",
       "      <td>-0.006689</td>\n",
       "      <td>-0.007231</td>\n",
       "      <td>0.002802</td>\n",
       "      <td>-0.015028</td>\n",
       "      <td>0.278644</td>\n",
       "      <td>0.004210</td>\n",
       "      <td>1.000000</td>\n",
       "      <td>-0.012196</td>\n",
       "      <td>-0.004113</td>\n",
       "    </tr>\n",
       "    <tr>\n",
       "      <th>Education_2</th>\n",
       "      <td>-0.004722</td>\n",
       "      <td>-0.016264</td>\n",
       "      <td>-0.018197</td>\n",
       "      <td>-0.128364</td>\n",
       "      <td>0.037141</td>\n",
       "      <td>0.139201</td>\n",
       "      <td>-0.090366</td>\n",
       "      <td>-0.031806</td>\n",
       "      <td>0.071491</td>\n",
       "      <td>0.005134</td>\n",
       "      <td>0.006089</td>\n",
       "      <td>0.020590</td>\n",
       "      <td>-0.012196</td>\n",
       "      <td>1.000000</td>\n",
       "      <td>-0.409051</td>\n",
       "    </tr>\n",
       "    <tr>\n",
       "      <th>Education_3</th>\n",
       "      <td>0.021977</td>\n",
       "      <td>0.045838</td>\n",
       "      <td>0.020967</td>\n",
       "      <td>-0.108878</td>\n",
       "      <td>-0.034123</td>\n",
       "      <td>-0.008744</td>\n",
       "      <td>-0.080413</td>\n",
       "      <td>-0.014942</td>\n",
       "      <td>0.090212</td>\n",
       "      <td>-0.012421</td>\n",
       "      <td>0.009780</td>\n",
       "      <td>-0.023837</td>\n",
       "      <td>-0.004113</td>\n",
       "      <td>-0.409051</td>\n",
       "      <td>1.000000</td>\n",
       "    </tr>\n",
       "  </tbody>\n",
       "</table>\n",
       "</div>"
      ],
      "text/plain": [
       "                          ID       Age  Experience    Income  ZIP Code  \\\n",
       "ID                  1.000000 -0.008473   -0.008326 -0.017695  0.013432   \n",
       "Age                -0.008473  1.000000    0.994215 -0.055269 -0.029216   \n",
       "Experience         -0.008326  0.994215    1.000000 -0.046574 -0.028626   \n",
       "Income             -0.017695 -0.055269   -0.046574  1.000000 -0.016410   \n",
       "ZIP Code            0.013432 -0.029216   -0.028626 -0.016410  1.000000   \n",
       "Family             -0.016797 -0.046418   -0.052563 -0.157501  0.011778   \n",
       "CCAvg              -0.024675 -0.052012   -0.050077  0.645984 -0.004061   \n",
       "Mortgage           -0.013920 -0.012539   -0.010582  0.206806  0.007383   \n",
       "Personal Loan      -0.024801 -0.007726   -0.007413  0.502462  0.000107   \n",
       "Securities Account -0.016972 -0.000436   -0.001232 -0.002616  0.004704   \n",
       "CD Account         -0.006909  0.008043    0.010353  0.169738  0.019972   \n",
       "Online             -0.002528  0.013702    0.013898  0.014206  0.016990   \n",
       "CreditCard          0.017028  0.007681    0.008967 -0.002385  0.007691   \n",
       "Education_2        -0.004722 -0.016264   -0.018197 -0.128364  0.037141   \n",
       "Education_3         0.021977  0.045838    0.020967 -0.108878 -0.034123   \n",
       "\n",
       "                      Family     CCAvg  Mortgage  Personal Loan  \\\n",
       "ID                 -0.016797 -0.024675 -0.013920      -0.024801   \n",
       "Age                -0.046418 -0.052012 -0.012539      -0.007726   \n",
       "Experience         -0.052563 -0.050077 -0.010582      -0.007413   \n",
       "Income             -0.157501  0.645984  0.206806       0.502462   \n",
       "ZIP Code            0.011778 -0.004061  0.007383       0.000107   \n",
       "Family              1.000000 -0.109275 -0.020445       0.061367   \n",
       "CCAvg              -0.109275  1.000000  0.109905       0.366889   \n",
       "Mortgage           -0.020445  0.109905  1.000000       0.142095   \n",
       "Personal Loan       0.061367  0.366889  0.142095       1.000000   \n",
       "Securities Account  0.019994  0.015086 -0.005411       0.021954   \n",
       "CD Account          0.014110  0.136534  0.089311       0.316355   \n",
       "Online              0.010354 -0.003611 -0.005995       0.006278   \n",
       "CreditCard          0.011588 -0.006689 -0.007231       0.002802   \n",
       "Education_2         0.139201 -0.090366 -0.031806       0.071491   \n",
       "Education_3        -0.008744 -0.080413 -0.014942       0.090212   \n",
       "\n",
       "                    Securities Account  CD Account    Online  CreditCard  \\\n",
       "ID                           -0.016972   -0.006909 -0.002528    0.017028   \n",
       "Age                          -0.000436    0.008043  0.013702    0.007681   \n",
       "Experience                   -0.001232    0.010353  0.013898    0.008967   \n",
       "Income                       -0.002616    0.169738  0.014206   -0.002385   \n",
       "ZIP Code                      0.004704    0.019972  0.016990    0.007691   \n",
       "Family                        0.019994    0.014110  0.010354    0.011588   \n",
       "CCAvg                         0.015086    0.136534 -0.003611   -0.006689   \n",
       "Mortgage                     -0.005411    0.089311 -0.005995   -0.007231   \n",
       "Personal Loan                 0.021954    0.316355  0.006278    0.002802   \n",
       "Securities Account            1.000000    0.317034  0.012627   -0.015028   \n",
       "CD Account                    0.317034    1.000000  0.175880    0.278644   \n",
       "Online                        0.012627    0.175880  1.000000    0.004210   \n",
       "CreditCard                   -0.015028    0.278644  0.004210    1.000000   \n",
       "Education_2                   0.005134    0.006089  0.020590   -0.012196   \n",
       "Education_3                  -0.012421    0.009780 -0.023837   -0.004113   \n",
       "\n",
       "                    Education_2  Education_3  \n",
       "ID                    -0.004722     0.021977  \n",
       "Age                   -0.016264     0.045838  \n",
       "Experience            -0.018197     0.020967  \n",
       "Income                -0.128364    -0.108878  \n",
       "ZIP Code               0.037141    -0.034123  \n",
       "Family                 0.139201    -0.008744  \n",
       "CCAvg                 -0.090366    -0.080413  \n",
       "Mortgage              -0.031806    -0.014942  \n",
       "Personal Loan          0.071491     0.090212  \n",
       "Securities Account     0.005134    -0.012421  \n",
       "CD Account             0.006089     0.009780  \n",
       "Online                 0.020590    -0.023837  \n",
       "CreditCard            -0.012196    -0.004113  \n",
       "Education_2            1.000000    -0.409051  \n",
       "Education_3           -0.409051     1.000000  "
      ]
     },
     "execution_count": 596,
     "metadata": {},
     "output_type": "execute_result"
    }
   ],
   "source": [
    "#checking for any correlation\n",
    "df.corr()"
   ]
  },
  {
   "cell_type": "code",
   "execution_count": 597,
   "metadata": {
    "collapsed": true
   },
   "outputs": [],
   "source": [
    "def generateHeatMap(x):\n",
    "    plt.figure(figsize=(16,12))\n",
    "    sns.heatmap(data=df.corr(),annot=True,fmt='.2f',cmap='coolwarm')\n",
    "    plt.show()"
   ]
  },
  {
   "cell_type": "code",
   "execution_count": 598,
   "metadata": {},
   "outputs": [
    {
     "data": {
      "image/png": "[encoded data removed]",
      "text/plain": [
       "<matplotlib.figure.Figure at 0x2294cbdacf8>"
      ]
     },
     "metadata": {},
     "output_type": "display_data"
    }
   ],
   "source": [
    "generateHeatMap(df)"
   ]
  },
  {
   "cell_type": "markdown",
   "metadata": {},
   "source": [
    "* Columns 'ID' don't contribute much to the Personal loan (which is our Y) so we are dropping them\n",
    "* Age and Experience columns are highly correlated so we are dropping the column 'Experience' "
   ]
  },
  {
   "cell_type": "markdown",
   "metadata": {},
   "source": [
    "### Data Analysis Results\n",
    "\n",
    "* There are no missing values in the data\n",
    "* We have handled categorical columns in the data, i.e Education column by creating dummy variables.\n",
    "\n",
    "#### Assumptions:\n",
    "\n",
    "1. Binary logistic regression requires the dependent variable to be binary. Our target variable Personal Loan is binary.\n",
    "2. Logistic regression requires the observations to be independent of each other. All the observations are mostly inependent.\n",
    "3. Logistic regression requires there to be little or no multicollinearity among the independent variables. We've removed Experience column that is collinear with Age column.\n",
    "4. Logistic regression assumes linearity of independent variables and log odds.\n",
    "5. Logistic regression typically requires a large sample size. 5000 rows is good enough."
   ]
  },
  {
   "cell_type": "markdown",
   "metadata": {},
   "source": [
    "#### Predict Variable (desired target)\n",
    "\n",
    "Personal Loan column has the list of customers who accepted the loan or not? (binary 1: mean \"yes\" , 0: means \"no\")"
   ]
  },
  {
   "cell_type": "code",
   "execution_count": 527,
   "metadata": {},
   "outputs": [
    {
     "data": {
      "text/plain": [
       "0    4520\n",
       "1     480\n",
       "Name: Personal Loan, dtype: int64"
      ]
     },
     "execution_count": 527,
     "metadata": {},
     "output_type": "execute_result"
    }
   ],
   "source": [
    "df['Personal Loan'].value_counts()\n",
    "#around 90% of our target observations is (0 = Not accepted) and 10% is (1=accepted)"
   ]
  },
  {
   "cell_type": "code",
   "execution_count": 529,
   "metadata": {},
   "outputs": [
    {
     "data": {
      "image/png": "[encoded data removed]",
      "text/plain": [
       "<matplotlib.figure.Figure at 0x2294cd750f0>"
      ]
     },
     "metadata": {},
     "output_type": "display_data"
    }
   ],
   "source": [
    "sns.countplot(x='Personal Loan', data=df, palette='hls')\n",
    "plt.show()"
   ]
  },
  {
   "cell_type": "markdown",
   "metadata": {},
   "source": [
    "* 90% of our data contains 0 = Loan not accepted and 10% who accepted\n",
    "* Data is not so balanced"
   ]
  },
  {
   "cell_type": "markdown",
   "metadata": {},
   "source": [
    "# Logistic Model - 1 "
   ]
  },
  {
   "cell_type": "markdown",
   "metadata": {},
   "source": [
    "Here, you need to divide the given columns into two types of variables dependent(or target variable) and independent variable(or feature variables)."
   ]
  },
  {
   "cell_type": "code",
   "execution_count": 531,
   "metadata": {},
   "outputs": [
    {
     "name": "stdout",
     "output_type": "stream",
     "text": [
      "[False  True  True False False  True  True  True  True  True  True  True]\n",
      "[2 1 1 4 3 1 1 1 1 1 1 1]\n"
     ]
    }
   ],
   "source": [
    "from sklearn import datasets\n",
    "from sklearn.feature_selection import RFE\n",
    "from sklearn.linear_model import LogisticRegression\n",
    "\n",
    "logreg = LogisticRegression()\n",
    "X=df[['Age','Income','Family','ZIP Code','Mortgage','CCAvg','CD Account','Securities Account','Online','CreditCard','Education_2','Education_3']]\n",
    "y=df['Personal Loan']     \n",
    "\n",
    "rfe = RFE(logreg, n_features_to_select=9)\n",
    "rfe = rfe.fit(X,y)\n",
    "print(rfe.support_)\n",
    "print(rfe.ranking_)"
   ]
  },
  {
   "cell_type": "markdown",
   "metadata": {},
   "source": [
    "* We are using Recursive Feature Elimination approach to select our features, which contribute the most to our target.\n",
    "* The Recursive Feature Elimination (RFE) method is a feature selection approach. It works by recursively removing attributes and building a model on those attributes that remain. It uses the model accuracy to identify which attributes (and combination of attributes) contribute the most to predicting the target attribute\n",
    "* Out of the 12 columns we have taken, it selects 9 best features for our model (since we've given it as 9)\n",
    "* Here RFE has helped us select the following features: 'Income','Family','CCAvg','CD Account','Securities Account','Online','CreditCard','Education_2','Education_3'"
   ]
  },
  {
   "cell_type": "code",
   "execution_count": 599,
   "metadata": {
    "collapsed": true
   },
   "outputs": [],
   "source": [
    "#Separating features array and target array\n",
    "X = df[['Income','Family','CCAvg','CD Account','Securities Account','Online','CreditCard','Education_2','Education_3']]\n",
    "y = df[['Personal Loan']]"
   ]
  },
  {
   "cell_type": "code",
   "execution_count": 600,
   "metadata": {},
   "outputs": [
    {
     "name": "stdout",
     "output_type": "stream",
     "text": [
      "Optimization terminated successfully.\n",
      "         Current function value: 0.297389\n",
      "         Iterations 8\n",
      "                          Results: Logit\n",
      "===================================================================\n",
      "Model:               Logit             No. Iterations:    8.0000   \n",
      "Dependent Variable:  Personal Loan     Pseudo R-squared:  0.060    \n",
      "Date:                2019-02-25 19:26  AIC:               2991.8875\n",
      "No. Observations:    5000              BIC:               3050.5423\n",
      "Df Model:            8                 Log-Likelihood:    -1486.9  \n",
      "Df Residuals:        4991              LL-Null:           -1581.0  \n",
      "Converged:           1.0000            Scale:             1.0000   \n",
      "-------------------------------------------------------------------\n",
      "                    Coef.  Std.Err.    z     P>|z|   [0.025  0.975]\n",
      "-------------------------------------------------------------------\n",
      "Income              0.0078   0.0011   7.2584 0.0000  0.0057  0.0100\n",
      "Family             -0.7826   0.0410 -19.0916 0.0000 -0.8629 -0.7023\n",
      "CCAvg               0.0333   0.0297   1.1190 0.2631 -0.0250  0.0916\n",
      "CD Account          4.6976   0.2220  21.1595 0.0000  4.2625  5.1327\n",
      "Securities Account -1.9447   0.2150  -9.0438 0.0000 -2.3661 -1.5232\n",
      "Online             -1.6597   0.1007 -16.4736 0.0000 -1.8571 -1.4622\n",
      "CreditCard         -1.8847   0.1523 -12.3719 0.0000 -2.1833 -1.5861\n",
      "Education_2         0.2126   0.1148   1.8514 0.0641 -0.0125  0.4377\n",
      "Education_3         0.0407   0.1059   0.3848 0.7004 -0.1668  0.2483\n",
      "===================================================================\n",
      "\n"
     ]
    }
   ],
   "source": [
    "#Implementing the model\n",
    "\n",
    "import statsmodels.api as sm\n",
    "logit_model=sm.Logit(y,X)\n",
    "result=logit_model.fit()\n",
    "print(result.summary2())"
   ]
  },
  {
   "cell_type": "markdown",
   "metadata": {},
   "source": [
    "* The p-value is NOT the probability the claim is true.The p-value is NOT the probability the null hypothesis is true\n",
    "* The p-value is actually the probability of getting a sample like ours, or more extreme than ours IF the null hypothesis is true. So, we assume the null hypothesis is true and then determine how “strange” our sample really is. If it is not that strange (a large p-value) then we don’t change our mind about the null hypothesis. As the p-value gets smaller, we start wondering if the null really is true and well maybe we should change our minds (and reject the null hypothesis).\n",
    "* The p-values for most of the variables are smaller than 0.05(significant level), except 3 variables CCAvg, Education_2 and Education_3. So we can drop them in our next model and check the performance."
   ]
  },
  {
   "cell_type": "markdown",
   "metadata": {},
   "source": [
    "* To understand model performance, dividing the dataset into a training set and a test set is a good strategy.\n",
    "* Let's split dataset by using function train_test_split(). You need to pass 3 parameters features, target, and test_set size. Additionally, you can use random_state to select records randomly.\n",
    "* Here, the Dataset is broken into two parts in a ratio of 75:25. It means 75% data will be used for model training and 25% for model testing."
   ]
  },
  {
   "cell_type": "code",
   "execution_count": 603,
   "metadata": {
    "collapsed": true
   },
   "outputs": [],
   "source": [
    "#Spliting the data into training and test sets\n",
    "X_train,X_test,y_train,y_test = train_test_split(X, y, test_size=0.25, random_state=42)"
   ]
  },
  {
   "cell_type": "markdown",
   "metadata": {},
   "source": [
    "#### Model Development and Prediction\n",
    "* We already imported the the Logistic Regression module in the start.\n",
    "* We created a Logistic Regression classifier object using LogisticRegression() function.\n",
    "* Then, model is fitted on the train set using fit() and we perform predictions on the test set using predict()."
   ]
  },
  {
   "cell_type": "code",
   "execution_count": 604,
   "metadata": {},
   "outputs": [
    {
     "data": {
      "text/plain": [
       "LogisticRegression(C=1.0, class_weight=None, dual=False, fit_intercept=True,\n",
       "          intercept_scaling=1, max_iter=100, multi_class='ovr', n_jobs=1,\n",
       "          penalty='l2', random_state=None, solver='liblinear', tol=0.0001,\n",
       "          verbose=0, warm_start=False)"
      ]
     },
     "execution_count": 604,
     "metadata": {},
     "output_type": "execute_result"
    }
   ],
   "source": [
    "# import the class\n",
    "from sklearn.linear_model import LogisticRegression\n",
    "\n",
    "# instantiate the model (using the default parameters)\n",
    "logreg = LogisticRegression()\n",
    "\n",
    "# fit the model with data\n",
    "logreg.fit(X_train,y_train)\n"
   ]
  },
  {
   "cell_type": "code",
   "execution_count": 605,
   "metadata": {},
   "outputs": [
    {
     "name": "stdout",
     "output_type": "stream",
     "text": [
      "Accuracy of logistic regression classifier on test set: 0.95\n"
     ]
    }
   ],
   "source": [
    "#predicting the test results and caluculating the accuracy\n",
    "y_pred=logreg.predict(X_test)\n",
    "print('Accuracy of logistic regression classifier on test set: {:.2f}'.format(logreg.score(X_test, y_test)))"
   ]
  },
  {
   "cell_type": "markdown",
   "metadata": {},
   "source": [
    "#### Model Evaluation using Confusion Matrix\n",
    "\n",
    "* A confusion matrix is a table that is used to evaluate the performance of a classification model. You can also visualize the performance of an algorithm. The fundamental of a confusion matrix is the number of correct and incorrect predictions are summed up class-wise.\n",
    "* Here, you can see the confusion matrix below in the form of the array object. The dimension of this matrix is 2*2 because this model is binary classification. \n",
    "* You have two classes 0 and 1. Diagonal values represent accurate predictions, while non-diagonal elements are inaccurate predictions. "
   ]
  },
  {
   "cell_type": "code",
   "execution_count": 606,
   "metadata": {},
   "outputs": [
    {
     "data": {
      "text/plain": [
       "array([[1105,   11],\n",
       "       [  47,   87]])"
      ]
     },
     "execution_count": 606,
     "metadata": {},
     "output_type": "execute_result"
    }
   ],
   "source": [
    "# import the metrics class\n",
    "from sklearn import metrics\n",
    "cnf_matrix = metrics.confusion_matrix(y_test, y_pred)\n",
    "cnf_matrix"
   ]
  },
  {
   "cell_type": "markdown",
   "metadata": {},
   "source": [
    "#### Visualizing Confusion Matrix using Heatmap\n",
    "* Let's visualize the results of the model in the form of a confusion matrix using matplotlib and seaborn.\n",
    "* Here, you will visualize the confusion matrix using Heatmap"
   ]
  },
  {
   "cell_type": "code",
   "execution_count": 607,
   "metadata": {
    "collapsed": true
   },
   "outputs": [],
   "source": [
    "# import required modules\n",
    "import numpy as np\n",
    "import matplotlib.pyplot as plt\n",
    "import seaborn as sns\n",
    "%matplotlib inline"
   ]
  },
  {
   "cell_type": "code",
   "execution_count": 608,
   "metadata": {},
   "outputs": [
    {
     "data": {
      "text/plain": [
       "<matplotlib.text.Text at 0x2294ca52e80>"
      ]
     },
     "execution_count": 608,
     "metadata": {},
     "output_type": "execute_result"
    },
    {
     "data": {
      "image/png": "[encoded data removed]",
      "text/plain": [
       "<matplotlib.figure.Figure at 0x2294bd00e10>"
      ]
     },
     "metadata": {},
     "output_type": "display_data"
    }
   ],
   "source": [
    "class_names=[0,1] # name  of classes\n",
    "fig, ax = plt.subplots()\n",
    "tick_marks = np.arange(len(class_names))\n",
    "plt.xticks(tick_marks, class_names)\n",
    "plt.yticks(tick_marks, class_names)\n",
    "# create heatmap\n",
    "sns.heatmap(pd.DataFrame(cnf_matrix), annot=True, cmap=\"YlGnBu\" ,fmt='g')\n",
    "ax.xaxis.set_label_position(\"top\")\n",
    "plt.tight_layout()\n",
    "plt.title('Confusion matrix', y=1.1)\n",
    "plt.ylabel('Actual label')\n",
    "plt.xlabel('Predicted label')"
   ]
  },
  {
   "cell_type": "code",
   "execution_count": 543,
   "metadata": {},
   "outputs": [
    {
     "name": "stdout",
     "output_type": "stream",
     "text": [
      "             precision    recall  f1-score   support\n",
      "\n",
      "          0       0.96      0.99      0.97      1116\n",
      "          1       0.89      0.65      0.75       134\n",
      "\n",
      "avg / total       0.95      0.95      0.95      1250\n",
      "\n"
     ]
    }
   ],
   "source": [
    "# from sklearn.metrics import classification_report\n",
    "# print(classification_report(y_test, y_pred))"
   ]
  },
  {
   "cell_type": "code",
   "execution_count": 609,
   "metadata": {},
   "outputs": [
    {
     "name": "stdout",
     "output_type": "stream",
     "text": [
      "Accuracy: 0.9536\n",
      "Precision: 0.8877551020408163\n",
      "Recall: 0.6492537313432836\n"
     ]
    }
   ],
   "source": [
    "print(\"Accuracy:\",metrics.accuracy_score(y_test, y_pred))\n",
    "print(\"Precision:\",metrics.precision_score(y_test, y_pred))\n",
    "print(\"Recall:\",metrics.recall_score(y_test, y_pred))"
   ]
  },
  {
   "cell_type": "markdown",
   "metadata": {},
   "source": [
    "* We got a classification rate of 95%, considered as very good accuracy.\n",
    "* Precision: Precision is about being precise, i.e., how accurate your model is. In other words, you can say, when a model makes a prediction, how often it is correct. In your prediction case, when your Logistic Regression model predicted customers are going to take a personal loan, that customers have taken 88% of the time.\n",
    "* Recall: If there are customers who have taken personal loan in the test set and your Logistic Regression model can identify it 64% of the time."
   ]
  },
  {
   "cell_type": "markdown",
   "metadata": {},
   "source": [
    "#### ROC Curve\n",
    "\n",
    "* Receiver Operating Characteristic(ROC) curve is a plot of the true positive rate against the false positive rate. It shows the tradeoff between sensitivity and specificity."
   ]
  },
  {
   "cell_type": "code",
   "execution_count": 610,
   "metadata": {},
   "outputs": [
    {
     "data": {
      "image/png": "[encoded data removed]",
      "text/plain": [
       "<matplotlib.figure.Figure at 0x2294c5a0c50>"
      ]
     },
     "metadata": {},
     "output_type": "display_data"
    }
   ],
   "source": [
    "y_pred_proba = logreg.predict_proba(X_test)[::,1]\n",
    "fpr, tpr, _ = metrics.roc_curve(y_test,  y_pred_proba)\n",
    "auc = metrics.roc_auc_score(y_test, y_pred_proba)\n",
    "plt.plot(fpr,tpr,label=\"data 1, auc=\"+str(auc))\n",
    "plt.legend(loc=4)\n",
    "plt.show()"
   ]
  },
  {
   "cell_type": "markdown",
   "metadata": {},
   "source": [
    " AUC score here is 0.97 and 1 represents perfect classifier, and 0.5 represents a worthless classifier."
   ]
  },
  {
   "cell_type": "markdown",
   "metadata": {},
   "source": [
    "#### Cross Validating the model and checking for the accuracy"
   ]
  },
  {
   "cell_type": "code",
   "execution_count": 611,
   "metadata": {},
   "outputs": [
    {
     "name": "stdout",
     "output_type": "stream",
     "text": [
      "5-fold cross validation average accuracy: 0.953\n"
     ]
    }
   ],
   "source": [
    "from sklearn import model_selection\n",
    "from sklearn.model_selection import cross_val_score\n",
    "kfold = model_selection.KFold(n_splits=5, random_state=7)\n",
    "modelCV = LogisticRegression()\n",
    "scoring = 'accuracy'\n",
    "results = model_selection.cross_val_score(modelCV, X_train, y_train, cv=kfold, scoring=scoring)\n",
    "print(\"5-fold cross validation average accuracy: %.3f\" % (results.mean()))"
   ]
  },
  {
   "cell_type": "markdown",
   "metadata": {},
   "source": [
    "### Answering Questions for Logistic Regression Model 1\n",
    "\n",
    "#### 1. Is the relationship significant?\n",
    "Yes, the relationship is significant\n",
    "#### 2. Are any model assumptions violated?      \n",
    "No, we have checked our assumptions in data preprocessing\n",
    "#### 3. Does the model make sense?  Interpret the meaning of each independent variable.  \n",
    "Yes the model makes complete sense. We used P-values to understand the significance of the models. As a rough rule of thumb, if the absolute value of the Z-value is bigger that 2.0, the variable is significant and P> 0.05 it is not so signifacnt.The p-values for most of the variables are smaller than 0.05(significant level), except 3 variables CCAvg, Education_2 and Education_3. So these are not so significant variables.\n",
    "#### 4. Cross-validate the model. How well did it do? \n",
    "We performed 5 fold cross validation , which did not help to improve our model accuracy much.\n",
    "#### 5. Calculate the probability of getting the dependent variable\n",
    "Precision: Precision is about being precise, i.e., how accurate your model is. In other words, you can say, when a model makes a prediction, how often it is correct. In your prediction case, when your Logistic Regression model predicted customers are going to take a personal loan, that customers have taken 88% of the time.\n",
    "* Confusion matrix also help us to find probability\n",
    "\n"
   ]
  },
  {
   "cell_type": "markdown",
   "metadata": {},
   "source": [
    "## Logistic Model - 2"
   ]
  },
  {
   "cell_type": "markdown",
   "metadata": {},
   "source": [
    "* Dropping the 3 columns which has more P values - CCAvg, Education_2 and Education_3 for our second model and repeating the procedure"
   ]
  },
  {
   "cell_type": "code",
   "execution_count": 620,
   "metadata": {
    "collapsed": true
   },
   "outputs": [],
   "source": [
    "#Separating features array and target array\n",
    "X = df[['Income','Family','CD Account','Securities Account','Online','CreditCard']]\n",
    "y = df[['Personal Loan']]\n"
   ]
  },
  {
   "cell_type": "markdown",
   "metadata": {},
   "source": [
    "Writing a function for the whole logistic regression and passing the parameters X and y."
   ]
  },
  {
   "cell_type": "code",
   "execution_count": 621,
   "metadata": {
    "collapsed": true
   },
   "outputs": [],
   "source": [
    "def logistic_regression_model(X,y):\n",
    "    \n",
    "    #Implementing the model\n",
    "    import statsmodels.api as sm\n",
    "    logit_model=sm.Logit(y,X)\n",
    "    result=logit_model.fit()\n",
    "    print(result.summary2())\n",
    "    \n",
    "    #Spliting the data into training and test sets\n",
    "    X_train,X_test,y_train,y_test = train_test_split(X, y, test_size=0.25, random_state=42)\n",
    "    \n",
    "    # instantiate the model (using the default parameters)\n",
    "    logreg = LogisticRegression()\n",
    "\n",
    "    # fit the model with data\n",
    "    logreg.fit(X_train,y_train)\n",
    "    \n",
    "    #predicting the test results\n",
    "    y_pred=logreg.predict(X_test)\n",
    "    \n",
    "    # import the metrics class\n",
    "    print(\"printing the confusion matrix: \")\n",
    "    cnf_matrix = metrics.confusion_matrix(y_test, y_pred)\n",
    "    print(cnf_matrix)\n",
    "    print(\"---------------------------------------\")\n",
    "    #printing the accuracy, precision and recall\n",
    "    print(\"printing the accuracy of the model: \")\n",
    "    print(\"Accuracy:\",metrics.accuracy_score(y_test, y_pred))\n",
    "    print(\"printing the Precision of the model: \")\n",
    "    print(\"Precision:\",metrics.precision_score(y_test, y_pred))\n",
    "    print(\"printing the recall of the model: \")\n",
    "    print(\"Recall:\",metrics.recall_score(y_test, y_pred))\n",
    "    print(\"---------------------------------------\")\n",
    "    \n",
    "    #ROC Curve results\n",
    "    y_pred_proba = logreg.predict_proba(X_test)[::,1]\n",
    "    fpr, tpr, _ = metrics.roc_curve(y_test,  y_pred_proba)\n",
    "    auc = metrics.roc_auc_score(y_test, y_pred_proba)\n",
    "    plt.plot(fpr,tpr,label=\"data 1, auc=\"+str(auc))\n",
    "    plt.legend(loc=4)\n",
    "    plt.show()\n",
    "    print(\"---------------------------------------\")\n",
    "    print(\"Accuracy after K fold cross validation: \")\n",
    "    #Cross validating the model and checking the accuracy\n",
    "    from sklearn import model_selection\n",
    "    from sklearn.model_selection import cross_val_score\n",
    "    kfold = model_selection.KFold(n_splits=5, random_state=7)\n",
    "    modelCV = LogisticRegression()\n",
    "    scoring = 'accuracy'\n",
    "    results = model_selection.cross_val_score(modelCV, X_train, y_train, cv=kfold, scoring=scoring)\n",
    "    print(\"5-fold cross validation average accuracy: %.3f\" % (results.mean()))"
   ]
  },
  {
   "cell_type": "code",
   "execution_count": 622,
   "metadata": {},
   "outputs": [
    {
     "name": "stdout",
     "output_type": "stream",
     "text": [
      "Optimization terminated successfully.\n",
      "         Current function value: 0.297859\n",
      "         Iterations 8\n",
      "                          Results: Logit\n",
      "===================================================================\n",
      "Model:               Logit             No. Iterations:    8.0000   \n",
      "Dependent Variable:  Personal Loan     Pseudo R-squared:  0.058    \n",
      "Date:                2019-02-25 19:46  AIC:               2990.5945\n",
      "No. Observations:    5000              BIC:               3029.6976\n",
      "Df Model:            5                 Log-Likelihood:    -1489.3  \n",
      "Df Residuals:        4994              LL-Null:           -1581.0  \n",
      "Converged:           1.0000            Scale:             1.0000   \n",
      "-------------------------------------------------------------------\n",
      "                    Coef.  Std.Err.    z     P>|z|   [0.025  0.975]\n",
      "-------------------------------------------------------------------\n",
      "Income              0.0086   0.0008  11.0880 0.0000  0.0071  0.0101\n",
      "Family             -0.7533   0.0358 -21.0574 0.0000 -0.8234 -0.6831\n",
      "CD Account          4.6832   0.2206  21.2318 0.0000  4.2509  5.1155\n",
      "Securities Account -1.9271   0.2139  -9.0090 0.0000 -2.3464 -1.5079\n",
      "Online             -1.6388   0.0995 -16.4631 0.0000 -1.8339 -1.4437\n",
      "CreditCard         -1.8727   0.1519 -12.3310 0.0000 -2.1703 -1.5750\n",
      "===================================================================\n",
      "\n",
      "printing the confusion matrix: \n",
      "[[1100   16]\n",
      " [  74   60]]\n",
      "---------------------------------------\n",
      "printing the accuracy of the model: \n",
      "Accuracy: 0.928\n",
      "printing the Precision of the model: \n",
      "Precision: 0.7894736842105263\n",
      "printing the recall of the model: \n",
      "Recall: 0.44776119402985076\n",
      "---------------------------------------\n"
     ]
    },
    {
     "data": {
      "image/png": "[encoded data removed]",
      "text/plain": [
       "<matplotlib.figure.Figure at 0x2294bfbe898>"
      ]
     },
     "metadata": {},
     "output_type": "display_data"
    },
    {
     "name": "stdout",
     "output_type": "stream",
     "text": [
      "---------------------------------------\n",
      "Accuracy after K fold cross validation: \n",
      "5-fold cross validation average accuracy: 0.933\n"
     ]
    }
   ],
   "source": [
    "logistic_regression_model(X,y)"
   ]
  },
  {
   "cell_type": "markdown",
   "metadata": {},
   "source": [
    "### Answering Questions for Logistic Regression Model 2\n",
    "\n",
    "#### 1. Is the relationship significant?\n",
    "Yes, the relationship is significant\n",
    "\n",
    "#### 2. Are any model assumptions violated?      \n",
    "No, we have checked our assumptions in data preprocessing\n",
    "\n",
    "#### 3. Does the model make sense?  Interpret the meaning of each independent variable.  \n",
    "Yes the model makes complete sense. We used P-values to understand the significance of the models. As a rough rule of thumb, if the absolute value of the Z-value is bigger that 2.0, the variable is significant and P> 0.05 it is not so signifacnt.The p-values for most of the variables are smaller than 0.05(significant level). But the accuracy decrease from the previous model to 92% from 95%\n",
    "\n",
    "#### 4. Cross-validate the model. How well did it do? \n",
    "We performed 5 fold cross validation , which did not help to improve our model accuracy much but increased by little points.\n",
    "\n",
    "#### 5. Calculate the probability of getting the dependent variable\n",
    "Precision: Precision is about being precise, i.e., how accurate your model is. In other words, you can say, when a model makes a prediction, how often it is correct. In your prediction case, when your Logistic Regression model predicted customers are going to take a personal loan, that customers have taken 78% of the time.\n"
   ]
  },
  {
   "cell_type": "markdown",
   "metadata": {},
   "source": [
    "## Logistic Regression - Model 3"
   ]
  },
  {
   "cell_type": "markdown",
   "metadata": {},
   "source": [
    "* In this model we have used RFE method again to pick up top 5 features which contribute to our model."
   ]
  },
  {
   "cell_type": "code",
   "execution_count": 628,
   "metadata": {},
   "outputs": [
    {
     "name": "stdout",
     "output_type": "stream",
     "text": [
      "[False False False False False False  True  True False  True  True  True]\n",
      "[6 5 4 8 7 2 1 1 3 1 1 1]\n"
     ]
    }
   ],
   "source": [
    "from sklearn import datasets\n",
    "from sklearn.feature_selection import RFE\n",
    "from sklearn.linear_model import LogisticRegression\n",
    "\n",
    "logreg = LogisticRegression()\n",
    "X=df[['Age','Income','Family','ZIP Code','Mortgage','CCAvg','CD Account','Securities Account','Online','CreditCard','Education_2','Education_3']]\n",
    "y=df['Personal Loan']     \n",
    "\n",
    "rfe = RFE(logreg, n_features_to_select=5)\n",
    "rfe = rfe.fit(X,y)\n",
    "print(rfe.support_)\n",
    "print(rfe.ranking_)"
   ]
  },
  {
   "cell_type": "code",
   "execution_count": 629,
   "metadata": {
    "collapsed": true
   },
   "outputs": [],
   "source": [
    "#taken X as all the true values from the above\n",
    "X=df[['CD Account','Securities Account','CreditCard','Education_2','Education_3']]\n",
    "y=df['Personal Loan']   "
   ]
  },
  {
   "cell_type": "code",
   "execution_count": 630,
   "metadata": {},
   "outputs": [
    {
     "name": "stdout",
     "output_type": "stream",
     "text": [
      "Optimization terminated successfully.\n",
      "         Current function value: 0.424117\n",
      "         Iterations 7\n",
      "                          Results: Logit\n",
      "===================================================================\n",
      "Model:               Logit             No. Iterations:    7.0000   \n",
      "Dependent Variable:  Personal Loan     Pseudo R-squared:  -0.341   \n",
      "Date:                2019-02-25 22:42  AIC:               4251.1694\n",
      "No. Observations:    5000              BIC:               4283.7554\n",
      "Df Model:            4                 Log-Likelihood:    -2120.6  \n",
      "Df Residuals:        4995              LL-Null:           -1581.0  \n",
      "Converged:           1.0000            Scale:             1.0000   \n",
      "-------------------------------------------------------------------\n",
      "                    Coef.  Std.Err.    z     P>|z|   [0.025  0.975]\n",
      "-------------------------------------------------------------------\n",
      "CD Account          4.0622   0.2040  19.9100 0.0000  3.6623  4.4620\n",
      "Securities Account -2.4878   0.1971 -12.6234 0.0000 -2.8741 -2.1015\n",
      "CreditCard         -2.6144   0.1414 -18.4844 0.0000 -2.8916 -2.3372\n",
      "Education_2        -1.6598   0.0859 -19.3246 0.0000 -1.8282 -1.4915\n",
      "Education_3        -1.5810   0.0809 -19.5501 0.0000 -1.7395 -1.4225\n",
      "===================================================================\n",
      "\n",
      "printing the confusion matrix: \n",
      "[[1110    6]\n",
      " [ 102   32]]\n",
      "---------------------------------------\n",
      "printing the accuracy of the model: \n",
      "Accuracy: 0.9136\n",
      "printing the Precision of the model: \n",
      "Precision: 0.8421052631578947\n",
      "printing the recall of the model: \n",
      "Recall: 0.23880597014925373\n",
      "---------------------------------------\n"
     ]
    },
    {
     "data": {
      "image/png": "[encoded data removed]",
      "text/plain": [
       "<matplotlib.figure.Figure at 0x2294efde898>"
      ]
     },
     "metadata": {},
     "output_type": "display_data"
    },
    {
     "name": "stdout",
     "output_type": "stream",
     "text": [
      "---------------------------------------\n",
      "Accuracy after K fold cross validation: \n",
      "5-fold cross validation average accuracy: 0.917\n"
     ]
    }
   ],
   "source": [
    "logistic_regression_model(X,y)"
   ]
  },
  {
   "cell_type": "markdown",
   "metadata": {},
   "source": [
    "### Answering Questions for Logistic Regression Model 1\n",
    "\n",
    "#### 1. Is the relationship significant?\n",
    "Yes, the relationship is significant\n",
    "\n",
    "#### 2. Are any model assumptions violated?      \n",
    "No, we have checked our assumptions in data preprocessing\n",
    "\n",
    "#### 3. Does the model make sense?  Interpret the meaning of each independent variable.  \n",
    "Yes the model makes complete sense. We used P-values to understand the significance of the models. As a rough rule of thumb, if the absolute value of the Z-value is bigger that 2.0, the variable is significant and P> 0.05 it is not so signifacnt.The p-values for most of the variables are smaller than 0.05(significant level). But the accuracy decreased from previous models to 91%\n",
    "\n",
    "#### 4. Cross-validate the model. How well did it do? \n",
    "We performed 5 fold cross validation , which did not help to improve our model accuracy much.\n",
    "\n",
    "#### 5. Calculate the probability of getting the dependent variable\n",
    "Precision: Precision is about being precise, i.e., how accurate your model is. In other words, you can say, when a model makes a prediction, how often it is correct. In your prediction case, when your Logistic Regression model predicted customers are going to take a personal loan, that customers have taken 84% of the time."
   ]
  }
 ],
 "metadata": {
  "kernelspec": {
   "display_name": "Python 3",
   "language": "python",
   "name": "python3"
  },
  "language_info": {
   "codemirror_mode": {
    "name": "ipython",
    "version": 3
   },
   "file_extension": ".py",
   "mimetype": "text/x-python",
   "name": "python",
   "nbconvert_exporter": "python",
   "pygments_lexer": "ipython3",
   "version": "3.6.1"
  }
 },
 "nbformat": 4,
 "nbformat_minor": 2
}
